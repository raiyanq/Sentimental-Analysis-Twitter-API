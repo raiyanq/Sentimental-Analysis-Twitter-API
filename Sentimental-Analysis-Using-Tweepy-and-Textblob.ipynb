{
 "cells": [
  {
   "cell_type": "code",
   "execution_count": 30,
   "metadata": {
    "scrolled": false
   },
   "outputs": [
    {
     "name": "stdout",
     "output_type": "stream",
     "text": [
      "@shanevanderhart @soledadobrien \"... thoughtful conservatives like Shapiro or Dr. Jordan Peterson...\" HAHAHAHAHAHAH… https://t.co/Yepe1Yk07c\n",
      "0.4\n",
      "RT @LegendaryEnergy: I feel like Jordan Peterson talking to a feminist when instead of talking to me, people try to say what I said (which…\n",
      "0.0\n",
      "RT @unherd: \"Exactly when do things go too far on the Left?\" Watch @jordanbpeterson and @DouglasKMurray discuss where politics is going wro…\n",
      "0.11666666666666665\n",
      "Actually the Jordan Peterson &amp; daughter all \"meat\" aka beef (&amp;water) diet is chaotic good because cows eat grass so… https://t.co/xeUGmfjU7p\n",
      "0.35\n",
      "RT @LegendaryEnergy: I feel like Jordan Peterson talking to a feminist when instead of talking to me, people try to say what I said (which…\n",
      "0.0\n",
      "RT @TheTherynMeyer: So Jordan Peterson's rhetoric is riddled w/ distinctions w/ no difference: \n",
      "&gt;Complains that leftists make everything ab…\n",
      "0.0\n",
      "RT @LarrySchweikart: Interesting how until Trump revived the US space program, our space exploration had just about died.\n",
      "\n",
      "Jordan Peterson…\n",
      "0.5\n",
      "RT @LarrySchweikart: Interesting how until Trump revived the US space program, our space exploration had just about died.\n",
      "\n",
      "Jordan Peterson…\n",
      "0.5\n",
      "RT @BrianEggen: @MarkDice Should have hired Jordan Peterson\n",
      "0.0\n",
      "Thanks Jordan Peterson, I’ll Take Sam Harris From Here https://t.co/7CnTAmbiJS via @PatheosEvang\n",
      "0.2\n",
      "@joicehasselmann @jairbolsonaro @Leonencio ta querendo ser Jordan Peterson o Jair\n",
      "0.0\n",
      "How vitamin-deficient do you think Jordan Peterson is right now https://t.co/nXPEuJexCx\n",
      "0.2857142857142857\n",
      "RT @classiclib3ral: One of the big lies Jordan Peterson tells is that even if you disagree with him he always follows the science. Here is…\n",
      "0.0\n",
      "A Facebook friend asked for some podcast recommendations and I just picked a fight with two guys in the comments wh… https://t.co/6CjnRzz2PF\n",
      "0.0\n",
      "RT @classiclib3ral: One of the big lies Jordan Peterson tells is that even if you disagree with him he always follows the science. Here is…\n",
      "0.0\n",
      "    Sentiment\n",
      "6    0.500000\n",
      "7    0.500000\n",
      "0    0.400000\n",
      "3    0.350000\n",
      "11   0.285714\n",
      "9    0.200000\n",
      "2    0.116667\n",
      "1    0.000000\n",
      "4    0.000000\n",
      "5    0.000000\n",
      "8    0.000000\n",
      "10   0.000000\n",
      "12   0.000000\n",
      "13   0.000000\n",
      "14   0.000000\n"
     ]
    },
    {
     "data": {
      "text/plain": [
       "array([[<matplotlib.axes._subplots.AxesSubplot object at 0x00000179FD37B908>]],\n",
       "      dtype=object)"
      ]
     },
     "execution_count": 30,
     "metadata": {},
     "output_type": "execute_result"
    },
    {
     "data": {
      "image/png": "[encoded data removed]",
      "text/plain": [
       "<Figure size 432x288 with 1 Axes>"
      ]
     },
     "metadata": {},
     "output_type": "display_data"
    }
   ],
   "source": [
    "import tweepy\n",
    "from textblob import TextBlob\n",
    "import matplotlib.pyplot as plt\n",
    "import pandas as pd\n",
    "\n",
    "#keys are removed from GitHub version\n",
    "consumer_key= \n",
    "consumer_secret= \n",
    "\n",
    "access_token=\n",
    "access_token_secret=\n",
    "#Use the API to access tweets\n",
    "auth = tweepy.OAuthHandler(consumer_key, consumer_secret)\n",
    "auth.set_access_token(access_token, access_token_secret)\n",
    "\n",
    "api = tweepy.API(auth)\n",
    "\n",
    "public_tweets = api.search('Jordan Peterson')\n",
    "\n",
    "df = pd.DataFrame()\n",
    "#gather data ont he sentiment of each tweet\n",
    "for tweet in public_tweets:\n",
    "    print(tweet.text)\n",
    "    analysis = TextBlob(tweet.text)\n",
    "    df = df.append({'Sentiment': analysis.sentiment.polarity}, ignore_index=True)\n",
    "    print(analysis.sentiment.polarity)\n",
    "\n",
    "#sort results \n",
    "results_sorted = df.sort_values(by='Sentiment', ascending=False)\n",
    "print(results_sorted)\n",
    "\n",
    "#histogram of results\n",
    "results_sorted.hist()\n"
   ]
  },
  {
   "cell_type": "code",
   "execution_count": null,
   "metadata": {},
   "outputs": [],
   "source": []
  }
 ],
 "metadata": {
  "kernelspec": {
   "display_name": "Python 3",
   "language": "python",
   "name": "python3"
  },
  "language_info": {
   "codemirror_mode": {
    "name": "ipython",
    "version": 3
   },
   "file_extension": ".py",
   "mimetype": "text/x-python",
   "name": "python",
   "nbconvert_exporter": "python",
   "pygments_lexer": "ipython3",
   "version": "3.6.5"
  }
 },
 "nbformat": 4,
 "nbformat_minor": 2
}
